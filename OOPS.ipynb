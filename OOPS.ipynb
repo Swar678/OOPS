{
  "nbformat": 4,
  "nbformat_minor": 0,
  "metadata": {
    "colab": {
      "provenance": []
    },
    "kernelspec": {
      "name": "python3",
      "display_name": "Python 3"
    },
    "language_info": {
      "name": "python"
    }
  },
  "cells": [
    {
      "cell_type": "markdown",
      "source": [
        "# **Theory Questions**"
      ],
      "metadata": {
        "id": "xGsanfJox96f"
      }
    },
    {
      "cell_type": "markdown",
      "source": [
        "1. What is Object-Oriented Programming (OOP)?\n",
        "   - OOP means writing code by creating our own classes with attributes and functions/methods. It helps us group related data and actions together inside something called an object.\n",
        "   - It makes our code more organized, reusable, and easier to manage.\n",
        "   - It involves:\n",
        "   - Encapsulation - Keeping data and functions in one place\n",
        "   - Abstraction - Showing only what's needed, hiding the rest\n",
        "   - Inheritance - One class can take things from another class\n",
        "   - Polymorphism - Same function name can do different things for different objects.\n",
        "   - In example below, book is a class, author_name, book_name are attributes and read_book function is a method.\n",
        "\n",
        "         Class Book:\n",
        "             def __init__(self, author_name,book_name):\n",
        "                 self.author_name = author_name\n",
        "                 self.book_name = book_name\n",
        "\n",
        "             def read_book(self):\n",
        "                 return f\"Author of the {self.book_name} is {self.author_name}\"\n",
        "\n",
        "            # Creating an object of the Book class\n",
        "             details_book = Book(\"Paulo Coelho\", \"The Alchemist\")\n",
        "             print(details_book.read_book())\n",
        "\n",
        "2. What is a class in OOP?\n",
        "   - A class is a way of creating our own structure in code that holds both variables and functions. We use it to create objects that behave in a certain way- like what data it will store (called attributes) and what it can do (called methods or functions inside the class).\n",
        "   - It is like blueprint or template used to create objects.\n",
        "\n",
        "3. What is an object in OOP?\n",
        "   - An object is something we make using a class. It holds real data and can use the functions defined inside the class.\n",
        "   - It has its own values and can do things using the functions of the class.\n",
        "\n",
        "             # 'details_book' is an object\n",
        "             details_book = Book(\"Paulo Coelho\", \"The Alchemist\")\n",
        "             print(details_book.read_book())\n",
        "\n",
        "4. What is the difference between abstraction and encapsulation?\n",
        "   - Abstraction means we don't show all the details — just the part the user needs.\n",
        "   - Encapsulation means we keep the data and functions together in one place and protect them from outside changes.\n",
        "   - Abstraction:\n",
        "    - Hiding the complex logic, that is, show only what's needed\n",
        "    - Focus is on what the object does\n",
        "    - Done using abstract classes or interfaces\n",
        "    - Done using abstract classes or interfaces\tDone using private variables and methods\n",
        "    - Example: When you use a coffee machine - you press a button (you don't need to know the internal wiring)\n",
        "   - Encapsulation:\n",
        "    - Hiding the data and keeping it safe inside a class\n",
        "    - Keep everything together and protected\n",
        "    - Focus is on how it does it safely\n",
        "    - Done using private variables and methods\n",
        "    - Example: All the coffee machine parts (water, beans, heating) are hidden inside the machine\n",
        "5. What are dunder methods in Python?\n",
        "   - Dunder methods are built-in methods in Python with double underscores. We don't call them directly — Python calls them when something happens, like printing or creating an object.\n",
        "   - They are also called magic methods.\n",
        "   - Common examples are __init__, __str__, __len__, etc.\n",
        "6. Explain the concept of inheritance in OOP.\n",
        "   - Inheritance is when one class gets the features (methods, variables) of another class, like passing traits from parent to child.\n",
        "   - It is like one class (child) can reuse the code from another class (parent).\n",
        "   - Example below,\n",
        "\n",
        "            # Parent Class\n",
        "             class home:\n",
        "                 def __init__(self, print_colour, decorator_item):\n",
        "                     self.print_colour = print_colour\n",
        "                     self.decorator_item = decorator_item\n",
        "\n",
        "                 def room(self):\n",
        "                     return f\"Room colour would be {self.print_colour} and decorator would be {self.decorator_item}.\"\n",
        "\n",
        "            # Child Class\n",
        "            class apartment(home):\n",
        "                def number_of_romms(self):\n",
        "                    return f\"Room colour would be {self.print_colour} and decorator would be {self.decorator_item} and number of rooms would be 5.\"\n",
        "\n",
        "          house_details = apartment(\"blue\", \"bed_lamp\")\n",
        "          print(house_details.room())\n",
        "          print(house_details.number_of_romms())\n",
        "\n",
        "7.  What is polymorphism in OOP?\n",
        "    - Polymorphism lets us use one method name that works differently for different objects.\n",
        "    - \"Poly\" = many, \"Morph\" = form. So, polymorphism = many forms\n",
        "    - For example: In below example same method \"read_book\" is used in both the class but it gives different outputs — based on the object.\n",
        "\n",
        "                class Novel:\n",
        "                    def read_book(self):\n",
        "                        return f\"Novel is good.\"\n",
        "                    \n",
        "                class non_fiction:\n",
        "                    def read_book(self):\n",
        "                        return f\"Non Fiction is good.\"\n",
        "\n",
        "                for x in [Novel(), non_fiction()]:\n",
        "                    print(x.read_book())\n",
        "\n",
        "8. How is encapsulation achieved in Python?\n",
        "   - It is achieved in the following ways:\n",
        "     - self.variable = Public (can access from outside)\n",
        "     - _variable = Protected (should not access directly)\n",
        "     - __variable = Private (cannot access directly)\n",
        "                    \n",
        "                class Student:\n",
        "                    def __init__(self, name, age, marks):\n",
        "                        self.name = name   # public\n",
        "                        self._age = age    # protected\n",
        "                        self.__marks = marks # private\n",
        "\n",
        "                   def show_details(self):\n",
        "                       return f\"Name: {self.name}, Age: {self._age}, Marks: {self.__marks}\"\n",
        "\n",
        "                   def get_marks(self):  # getter for private\n",
        "                       return self.__marks\n",
        "\n",
        "                  def update_marks(self, new_marks):  # setter for private\n",
        "                      self.__marks = new_marks\n",
        "\n",
        "              s1 = Student(\"Swar Sudha\", 25, 90)\n",
        "\n",
        "              # Accessing public\n",
        "              print(s1.name)  # it works fine\n",
        "\n",
        "              # Accessing protected\n",
        "              print(s1._age)  # It works but should be used carefully\n",
        "\n",
        "             # Accessing private\n",
        "             # print(s1.__marks)  # It will throw an error as we can't access directly\n",
        "\n",
        "            # Using getter method\n",
        "            print(s1.get_marks())\n",
        "\n",
        "           # Using setter method\n",
        "           s1.update_marks(95)\n",
        "           print(s1.get_marks())\n",
        "\n",
        "9. What is a constructor in Python?\n",
        "   - Constructor is a type of dunder method.\n",
        "   - It is a special method or function in a class that is used to create and initialize objects.\n",
        "   - It runs automatically when we create an object.\n",
        "   - It is always called using __init__()\n",
        "   - For example: In below example __init__ is the constructor.\n",
        "                 \n",
        "                 class Book:\n",
        "                     def __init__(self, author, title):\n",
        "                         self.author = author\n",
        "                         self.title = title\n",
        "                # Creating an object of the Book class\n",
        "                details_book = Book(\"Paulo Coelho\", \"The Alchemist\")\n",
        "                # Once we create the object, Python automatically runs this:\n",
        "                Book.__init__(details_book, \"Paulo Coelho\", \"The Alchemist\")\n",
        "                # it stores like this:\n",
        "                details_book.author = \"Paulo Coelho\"\n",
        "                details_book.title = \"The Alchemist\"\n",
        "\n",
        "10. What are class and static methods in Python?\n",
        "    - class method is done using cls whereas static method using none\n",
        "\n",
        "\n",
        "                  class Student:\n",
        "                      school_name = \"Sathya Sai School\"  # Class variable\n",
        "\n",
        "                      def __init__(self, name, grade):\n",
        "                          self.name = name  # Object variable\n",
        "                          self.grade = grade\n",
        "\n",
        "                  # Instance method\n",
        "                      def show_details(self):\n",
        "                          return f\"{self.name} is in grade {self.grade}\"\n",
        "\n",
        "                 # Class method\n",
        "                     @classmethod\n",
        "                     def get_school(cls):\n",
        "                         return f\"School name is {cls.school_name}\"\n",
        "\n",
        "                 # Static method\n",
        "                     @staticmethod\n",
        "                     def welcome_message():\n",
        "                         return \"Welcome to our school!\"\n",
        "\n",
        "              # Creating an object\n",
        "             s1 = Student(\"Swar Sudha\", 10)\n",
        "\n",
        "             # Calling instance method\n",
        "             print(s1.show_details())   \n",
        "\n",
        "             # Calling class method\n",
        "             print(Student.get_school())     \n",
        "\n",
        "             # Calling static method\n",
        "             print(Student.welcome_message())\n",
        "    \n",
        "\n",
        "11. What is method overloading in Python?\n",
        "    - Method Overloading means having multiple methods with the same name, but different number or type of arguments.\n",
        "    - Python doesn't support method overloading directly like Java or C++.\n",
        "    - If we write two methods with the same name, the last one will overwrite the first.\n",
        "    - We use default arguments or *args to simulate overloading.\n",
        "    - If we give a default value to the parameter in the function.So, even if you don't pass anything, it still works.\n",
        "    - For example:\n",
        "    \n",
        "                    def greet(name=\"Guest\"):\n",
        "                        print(f\"Hello, {name}!\")\n",
        "\n",
        "                    greet()  # Output: Hello, Guest!\n",
        "                    greet(\"Swar\") # Output: Hello, Swar!\n",
        "\n",
        "12. What is method overriding in OOP?\n",
        "    - Method Overriding is a method in a child class with the same name as a method in the parent class, and changing its behavior.\n",
        "    - This allows the child class to provide its own version of the method while keeping the same method name.\n",
        "    - Method Overriding is one way to achieve Polymorphism.\n",
        "    - For example: In below example, the method sound() behaves differently depending on whether it's a Dog or Cat, this is polymorphism. And it was done by overriding the sound() method in both Dog and Cat, this is method overriding.\n",
        "\n",
        "           class Animal:\n",
        "               def sound(self):\n",
        "                   return \"Some animal sound\"\n",
        "\n",
        "          class Dog(Animal):\n",
        "              def sound(self):\n",
        "                  return \"Bark\"\n",
        "\n",
        "          class Cat(Animal):\n",
        "              def sound(self):\n",
        "                  return \"Meow\"\n",
        "\n",
        "          for pet in [Dog(), Cat()]:\n",
        "              print(pet.sound())\n",
        "\n",
        "13. What is a property decorator in Python?\n",
        "    - The @property decorator in Python is used to turn a method into a read-only attribute.\n",
        "    - It lets you access a method like a variable, without using parentheses ().\n",
        "\n",
        "                 class Student:\n",
        "                     def __init__(self, name, marks):\n",
        "                         self.name = name\n",
        "                         self.marks = marks\n",
        "\n",
        "                     @property\n",
        "                     def grade(self):\n",
        "                         if self.marks >= 90:\n",
        "                             return \"A\"\n",
        "                         elif self.marks >= 75:\n",
        "                             return \"B\"\n",
        "                         else:\n",
        "                             return \"C\"\n",
        "\n",
        "                s = Student(\"Swar Sudha\", 98)\n",
        "                print(s.name)    \n",
        "                print(s.grade)  # No need to write s.grade()\n",
        "\n",
        "14. Why is polymorphism important in OOP?\n",
        "    - Polymorphism means “many forms”.\n",
        "    - This allows same method name to give different results based on the object..\n",
        "    - It's important because it lets one function or method behave differently for different objects — this makes the code more flexible, cleaner, and reusable.\n",
        "    - We don't need to write separate code for each class.\n",
        "    - It's easier to maintain and extend code.\n",
        "    - We just call particular method — Python decides what version to run depending on the object.\n",
        "\n",
        "15. What is an abstract class in Python?\n",
        "    - An abstract class is like a blueprint.\n",
        "    - It cannot be used directly, but other classes can inherit from it and fill in the details.\n",
        "    - In below example, Shape is like a plan (abstract class) that has a method called area() — but it's empty. Circle and Rectangle are real classes (child classes) that follow this plan and write their own area(). By doing this, we make sure that any class that comes from Shape must have a area() method. This keeps things same and clear across all classes.\n",
        "                      \n",
        "              from abc import ABC, abstractmethod\n",
        "\n",
        "              class Shape(ABC):\n",
        "                  @abstractmethod\n",
        "                  def area(self):\n",
        "                      pass\n",
        "\n",
        "             class Circle(Shape):\n",
        "                 def __init__(self, radius):\n",
        "                     self.radius = radius\n",
        "                 def area(self):\n",
        "                     return 3.14 * self.radius * self.radius\n",
        "\n",
        "             class Rectangle(Shape):\n",
        "                 def __init__(self, length, width):\n",
        "                     self.length = length\n",
        "                     self.width = width\n",
        "                 def area(self):\n",
        "                     return self.length * self.width\n",
        "\n",
        "             c=Circle(10)\n",
        "             r=Rectangle(10,15)\n",
        "\n",
        "             print(\"Cicle is: \", c.area())\n",
        "             print(\"Rectangle is: \", r.area())\n",
        "\n",
        "16. What are the advantages of OOP?\n",
        "    - Code looks neat and clear - We keep info and its related work (functions) in one place using a class.\n",
        "    - We can use same class again - Once made, we don't have to write it again. Just reuse it where needed.\n",
        "    - Easy to change things - If something needs fixing or updating, change it in one place only.\n",
        "    - Less mistakes - Because we lock the data properly (using encapsulation), so no one messes with it directly.\n",
        "    - Saves time (Inheritance) - We can make a new class from an old one and add more things without starting all over.\n",
        "    - Same method, different result (Polymorphism) - Like in above eaxpmle in Question number-15 area() gives different output for Circle and Rectangle. That's polymorphism — works based on the object.\n",
        "\n",
        "17. What is the difference between a class variable and an instance variable?\n",
        "    - Class variable - Shared by all objects.\n",
        "         - If one object changes it, others see the change too.\n",
        "    - Instance variable - Only belongs to that object.\n",
        "         - Each object can have its own different values.\n",
        "\n",
        "               class Student:\n",
        "                   school_name = \"Sathya Sai School\" # Class variable\n",
        "                    \n",
        "                   def __init__(self, name):\n",
        "                       self.name = name # Instance variable\n",
        "\n",
        "              s1 = Student(\"Swar\")\n",
        "              s2 = Student(\"Eliza\")\n",
        "\n",
        "              print(s1.name)         # Swar (unique)\n",
        "              print(s2.name)         # Eliza (unique)\n",
        "              print(s1.school_name)  # Sathya Sai School (shared)\n",
        "              print(s2.school_name)  # Sathya Sai School (shared)\n",
        "\n",
        " 18. What is multiple inheritance in Python?\n",
        "     - When a class gets features (methods/attributes) from more than one parent class, it's called multiple inheritance.\n",
        "     - In below example, ElectricCar object has inherited type from Vehicle and added its own battery.\n",
        "          - Vehicle is the base class. It has an attribute called type. car is the first child class. It gets the type from Vehicle using super(). ElectricCar is the grandchild class. It gets the type from car and also adds a new thing: battery. We created an object ecar using ElectricCar, and we can access both type and battery from it.\n",
        "\n",
        "                   # Base class\n",
        "                   class Vehicle:\n",
        "                       def __init__(self, type):\n",
        "                           self.type = type\n",
        "\n",
        "                   # First Level of Inheritance\n",
        "                   class car(Vehicle):\n",
        "                       def __init__(self, type):\n",
        "                           super().__init__(type)\n",
        "\n",
        "                  # Second Level of Inheritance\n",
        "                  class ElectricCar(car):\n",
        "                      def __init__(self, type, battery):\n",
        "                          super().__init__(type)\n",
        "                          self.battery = battery\n",
        "\n",
        "                 ecar = ElectricCar(\"Two Wheeler\", 100)\n",
        "                 print(ecar.type)\n",
        "                 print(ecar.battery)\n",
        "\n",
        "\n",
        "19.  Explain the purpose of \"__str__' and '__repr__\" methods in Python.\n",
        "     - Both are special methods (also called dunder methods) used to show the object as a string.\n",
        "     - __str__ - It is used when we print the object, it gives a nice and readable message. It's for the user who just wants to know what's inside.\n",
        "     - __repr__ - It is used for debugging. It gives a technical and detailed info.\n",
        "\n",
        "             class Book:\n",
        "                 def __init__(self, author, title):\n",
        "                     self.author = author\n",
        "                     self.title = title\n",
        "\n",
        "                 def __str__(self):\n",
        "                     return f\"{self.title} by {self.author}\"\n",
        "\n",
        "                 def __repr__(self):\n",
        "                     return f\"Book('{self.author}', '{self.title}')\"\n",
        "\n",
        "             b = Book(\"Paulo Coelho\", \"The Alchemist\")\n",
        "             print(b)   # Calls __str__\n",
        "             print(repr(b)) # Calls __repr__\n",
        "\n",
        "20. What is the significance of the 'super()' function in Python?\n",
        "    - super() is used to call methods from the parent class.\n",
        "    - Mostly used inside the __init__() method.\n",
        "    - It helps reuse code from the parent class without writing it again.\n",
        "    - When we are using inheritance, and the child class needs to use or extend the features of the parent class, we use super() to do that.\n",
        "\n",
        "21. What is the significance of the __del__ method in Python?\n",
        "    - __del__() is a special method in Python, also called a destructor.\n",
        "    - It is automatically called when an object is about to be deleted or destroyed.\n",
        "\n",
        "               class Shown:\n",
        "                   def __init__(self):\n",
        "                       print(\"Object Created\")\n",
        "        \n",
        "                   def __del__(self):\n",
        "                      print(\"Object Deleted\")\n",
        "\n",
        "                   obj = Shown()  # Output: Object Created\n",
        "                   del obj  # Output: Object Deleted\n",
        "\n",
        "22. What is the difference between @staticmethod and @classmethod in Python?\n",
        "    - @staticmethod — Just a helper, it belongs to the class but doesn't care about the class or object. No need to pass self or cls. It just does a job, like a normal function inside a class.\n",
        "\n",
        "                   class Demo:\n",
        "                       @staticmethod\n",
        "                       def greet():\n",
        "                           print(\"Hello from static method!\")\n",
        "                   Demo.greet()  # Works without making an object\n",
        "\n",
        "    - @classmethod — Knows about the class, it belongs to the class and takes cls as the first input. Can change class-level stuff (like variables shared by all objects).\n",
        "\n",
        "                     class Demo:\n",
        "                     count = 0\n",
        "\n",
        "                         @classmethod\n",
        "                         def increase(cls):\n",
        "                             cls.count += 1\n",
        "                             print(\"Count is\", cls.count)\n",
        "\n",
        "                     Demo.increase() # Also works without making an object\n",
        "\n",
        "\n",
        "23. How does polymorphism work in Python with inheritance?\n",
        "    - Polymorphism means same method name, but different behavior depending on the object.\n",
        "    - When we use inheritance, the child class can override a method from the parent class.\n",
        "    - So, if different child classes have their own version of the same method, that's polymorphism.\n",
        "    - In below example, fly() is the same method name in all classes. But each class gives a different output, this is polymorphism.Python automatically calls the correct version based on the object we are using.\n",
        "\n",
        "                   class Bird:\n",
        "                       def fly(self):\n",
        "                           print(\"Bird is flying\")\n",
        "\n",
        "                  class Sparrow(Bird):\n",
        "                      def fly(self):\n",
        "                          print(\"Sparrow flies high\")\n",
        "\n",
        "                 class Penguin(Bird):\n",
        "                     def fly(self):\n",
        "                         print(\"Penguin cannot fly\")\n",
        "\n",
        "               # Now let’s use them all with same method name\n",
        "               birds = [Bird(), Sparrow(), Penguin()]\n",
        "\n",
        "              for b in birds:\n",
        "                  b.fly() # same method, different outputs\n",
        "\n",
        "              # Output:\n",
        "              Bird is flying\n",
        "              Sparrow flies high\n",
        "              Penguin cannot fly\n",
        "\n",
        "24. What is method chaining in Python OOP?\n",
        "    - Method chaining means calling multiple methods one after another on the same object — in one line. Each method returns self, so that we can call the next method right after it.\n",
        "\n",
        "                           class Student:\n",
        "                               def __init__(self, name):\n",
        "                                   self.name = name\n",
        "                                   self.marks = 0\n",
        "\n",
        "                              def add_marks(self, marks):\n",
        "                                  self.marks += marks\n",
        "                                  return self  # important for chaining\n",
        "\n",
        "                              def show(self):\n",
        "                                  print(f\"{self.name} got {self.marks} marks\")\n",
        "                                  return self\n",
        "\n",
        "                              # Using method chaining\n",
        "                              s1 = Student(\"Swar\")\n",
        "                              s1.add_marks(10).add_marks(15).show()\n",
        "\n",
        "                              # Output:\n",
        "                              Swar got 25 marks\n",
        "\n",
        "\n",
        "25. What is the purpose of the __call__ method in Python?\n",
        "    - The __call__ method lets use an object like a function.\n",
        "    - If you add __call__ inside our class, then we can \"call\" the object directly using object() — just like you call a function.\n",
        "\n",
        "                      class Greet:\n",
        "                          def __init__(self, name):\n",
        "                          self.name = name\n",
        "\n",
        "                         def __call__(self):\n",
        "                             print(f\"Hello {self.name}, welcome!\")\n",
        "\n",
        "                     g = Greet(\"Swar\")\n",
        "                     g()  # looks like calling a function\n",
        "\n",
        "                     # Output:\n",
        "                     Hello Swar, welcome!\n",
        "\n",
        "\n",
        "\n",
        "\n"
      ],
      "metadata": {
        "id": "W7xipyuzyHEY"
      }
    },
    {
      "cell_type": "markdown",
      "source": [
        "# **Practical Questions**"
      ],
      "metadata": {
        "id": "RPxnw_DUzLxJ"
      }
    },
    {
      "cell_type": "code",
      "source": [
        "# 1. Create a parent class Animal with a method speak() that prints a generic message. Create a child class Dog that overrides the speak() method to print \"Bark!\".\n",
        "class Animal:\n",
        "    def speak(self):\n",
        "        print(\"Generic message\")\n",
        "\n",
        "class Dog(Animal):\n",
        "    def speak(self):\n",
        "        print(\"Bark!\")\n",
        "\n",
        "a=Animal()\n",
        "d=Dog()\n",
        "\n",
        "print(a.speak())\n",
        "print(d.speak())"
      ],
      "metadata": {
        "colab": {
          "base_uri": "https://localhost:8080/"
        },
        "id": "zWHOSsMGzQmY",
        "outputId": "37812c4e-bfa4-4a68-838c-6f608d3c7fe0"
      },
      "execution_count": null,
      "outputs": [
        {
          "output_type": "stream",
          "name": "stdout",
          "text": [
            "Generic message\n",
            "None\n",
            "Bark!\n",
            "None\n"
          ]
        }
      ]
    },
    {
      "cell_type": "code",
      "source": [
        "# 2. Write a program to create an abstract class Shape with a method area(). Derive classes Circle and Rectangle from it and implement the area() method in both.\n",
        "from abc import ABC, abstractmethod\n",
        "\n",
        "class Shape(ABC):\n",
        "    @abstractmethod\n",
        "    def area(self):\n",
        "        pass\n",
        "\n",
        "class Circle(Shape):\n",
        "    def __init__(self, radius):\n",
        "        self.radius = radius\n",
        "    def area(self):\n",
        "        return 3.14 * self.radius * self.radius\n",
        "\n",
        "class Rectangle(Shape):\n",
        "    def __init__(self, length, width):\n",
        "        self.length = length\n",
        "        self.width = width\n",
        "    def area(self):\n",
        "        return self.length * self.width\n",
        "\n",
        "c=Circle(10)\n",
        "r=Rectangle(10,15)\n",
        "\n",
        "print(\"Cicle is: \", c.area())\n",
        "print(\"Rectangle is: \", r.area())"
      ],
      "metadata": {
        "colab": {
          "base_uri": "https://localhost:8080/"
        },
        "id": "xH2grMbs9nUH",
        "outputId": "c3c31987-7691-4c42-c794-29ae6e721eb4"
      },
      "execution_count": null,
      "outputs": [
        {
          "output_type": "stream",
          "name": "stdout",
          "text": [
            "Cicle is:  314.0\n",
            "Rectangle is:  150\n"
          ]
        }
      ]
    },
    {
      "cell_type": "code",
      "source": [
        "# 3. Implement a multi-level inheritance scenario where a class Vehicle has an attribute type. Derive a class Car and further derive a class ElectricCar that adds a battery attribute.\n",
        "# Base class\n",
        "class Vehicle:\n",
        "    def __init__(self, type):\n",
        "        self.type = type\n",
        "\n",
        "# First Level of Inheritance\n",
        "class car(Vehicle):\n",
        "    def __init__(self, type):\n",
        "        super().__init__(type)\n",
        "\n",
        "# Second Level of Inheritance\n",
        "class ElectricCar(car):\n",
        "    def __init__(self, type, battery):\n",
        "        super().__init__(type)\n",
        "        self.battery = battery\n",
        "\n",
        "ecar = ElectricCar(\"Two Wheeler\", 100)\n",
        "print(ecar.type)\n",
        "print(ecar.battery)"
      ],
      "metadata": {
        "colab": {
          "base_uri": "https://localhost:8080/"
        },
        "id": "_JVbeafsBv29",
        "outputId": "e2243645-1142-43fb-8675-57e5e6bace0f"
      },
      "execution_count": null,
      "outputs": [
        {
          "output_type": "stream",
          "name": "stdout",
          "text": [
            "Two Wheeler\n",
            "100\n"
          ]
        }
      ]
    },
    {
      "cell_type": "code",
      "source": [
        "# 4. Demonstrate polymorphism by creating a base class Bird with a method fly(). Create two derived classes Sparrow and Penguin that override the fly() method.\n",
        "class Bird:\n",
        "    def fly(self):\n",
        "        return \"Bird can fly\"\n",
        "\n",
        "class Sparrow(Bird):\n",
        "    def fly(self):\n",
        "        return \"Sparrow can fly\"\n",
        "\n",
        "class Penguin(Bird):\n",
        "    def fly(self):\n",
        "        return \"Penguin cannot fly\"\n",
        "\n",
        "b=Bird()\n",
        "s=Sparrow()\n",
        "p=Penguin()\n",
        "\n",
        "print(b.fly())\n",
        "print(s.fly())\n",
        "print(p.fly())"
      ],
      "metadata": {
        "colab": {
          "base_uri": "https://localhost:8080/"
        },
        "id": "wQpyJn2Gt7_V",
        "outputId": "9b625e00-235f-4470-a6e1-fbc7c7c16a40"
      },
      "execution_count": null,
      "outputs": [
        {
          "output_type": "stream",
          "name": "stdout",
          "text": [
            "Bird can fly\n",
            "Sparrow can fly\n",
            "Penguin cannot fly\n"
          ]
        }
      ]
    },
    {
      "cell_type": "code",
      "source": [
        "# 5. Write a program to demonstrate encapsulation by creating a class BankAccount with private attributes balance and methods to deposit, withdraw, and check balance.\n",
        "class BankAccount:\n",
        "    def __init__(self, balance):\n",
        "        self.__balance = balance\n",
        "\n",
        "    def deposit(self, amount):\n",
        "        self.__balance += amount\n",
        "        return f\"deposited amount is: {amount}\"\n",
        "\n",
        "    def withdraw(self, amount):\n",
        "        if amount <= self.__balance:\n",
        "            self.__balance -= amount\n",
        "            return f\"withdrawn amount is: {amount}\"\n",
        "\n",
        "        else:\n",
        "            return \"Insufficient balance\"\n",
        "\n",
        "    def check_balance(self):\n",
        "        return f\"balance is: {self.__balance}\"\n",
        "\n",
        "account1=BankAccount(10000)\n",
        "\n",
        "print(account1.deposit(10000))\n",
        "print(account1.withdraw(5000))\n",
        "print(account1.check_balance())"
      ],
      "metadata": {
        "colab": {
          "base_uri": "https://localhost:8080/"
        },
        "id": "BtS-tF57uhvT",
        "outputId": "60fbfd83-37a2-4e38-d4cf-7b1bddc3e6a7"
      },
      "execution_count": null,
      "outputs": [
        {
          "output_type": "stream",
          "name": "stdout",
          "text": [
            "deposited amount is: 10000\n",
            "withdrawn amount is: 5000\n",
            "balance is: 15000\n"
          ]
        }
      ]
    },
    {
      "cell_type": "code",
      "source": [
        "# 6. Demonstrate runtime polymorphism using a method play() in a base class Instrument. Derive classes Guitar and Piano that implement their own version of play()\n",
        "class Instrument:\n",
        "    def play(self):\n",
        "        return \"Instrument is good\"\n",
        "\n",
        "class Guitar(Instrument):\n",
        "    def play(self):\n",
        "        return \"Guitar is good\"\n",
        "\n",
        "class Piano(Instrument):\n",
        "    def play(self):\n",
        "        return \"Piano is good\"\n",
        "g = Guitar()\n",
        "p = Piano()\n",
        "\n",
        "print(g.play())\n",
        "print(p.play())"
      ],
      "metadata": {
        "colab": {
          "base_uri": "https://localhost:8080/"
        },
        "id": "w0gI1eVCymE4",
        "outputId": "83edb8bc-3a0d-4334-9d91-442bb8fb2098"
      },
      "execution_count": null,
      "outputs": [
        {
          "output_type": "stream",
          "name": "stdout",
          "text": [
            "Guitar is good\n",
            "Piano is good\n"
          ]
        }
      ]
    },
    {
      "cell_type": "code",
      "source": [
        "# 7. Create a class MathOperations with a class method add_numbers() to add two numbers and a static method subtract_numbers() to subtract two numbers.\n",
        "class MathOperations:\n",
        "    @classmethod\n",
        "    def add_numbers(cls, num1, num2):\n",
        "        return num1+num2\n",
        "\n",
        "    @staticmethod\n",
        "    def subtract_numbers(num1, num2):\n",
        "        return num1-num2\n",
        "\n",
        "print(MathOperations.add_numbers(10,20))\n",
        "print(MathOperations.subtract_numbers(20,10))"
      ],
      "metadata": {
        "colab": {
          "base_uri": "https://localhost:8080/"
        },
        "id": "FgI1n8yqnwrk",
        "outputId": "b78f1d4b-3d9c-4c40-b43b-3b7fc9c07a8c"
      },
      "execution_count": null,
      "outputs": [
        {
          "output_type": "stream",
          "name": "stdout",
          "text": [
            "30\n",
            "10\n"
          ]
        }
      ]
    },
    {
      "cell_type": "code",
      "source": [
        "# 8. Implement a class Person with a class method to count the total number of persons created.\n",
        "class Person:\n",
        "    count = 0\n",
        "\n",
        "    def __init__(self, name):\n",
        "        self.name = name\n",
        "        Person.count += 1\n",
        "\n",
        "    @classmethod\n",
        "    def total_num(cls):\n",
        "        return cls.count\n",
        "\n",
        "p1= Person(\"Swar\")\n",
        "p2= Person(\"Eliza\")\n",
        "\n",
        "print(p1.total_num())"
      ],
      "metadata": {
        "colab": {
          "base_uri": "https://localhost:8080/"
        },
        "id": "HC57pOgIPsDy",
        "outputId": "e1bc0a5e-a6e0-4a9a-b398-4c8023a06471"
      },
      "execution_count": null,
      "outputs": [
        {
          "output_type": "stream",
          "name": "stdout",
          "text": [
            "2\n"
          ]
        }
      ]
    },
    {
      "cell_type": "code",
      "source": [
        "# 9. Write a class Fraction with attributes numerator and denominator. Override the str method to display the fraction as \"numerator/denominator\".\n",
        "class Fraction:\n",
        "    def __init__(self, numerator, denominator):\n",
        "        self.numerator = numerator\n",
        "        self.denominator = denominator\n",
        "\n",
        "    def __str__(self):\n",
        "        return f\"{self.numerator}/{self.denominator}\"\n",
        "\n",
        "result1=Fraction(100, 90)\n",
        "print(result1)"
      ],
      "metadata": {
        "colab": {
          "base_uri": "https://localhost:8080/"
        },
        "id": "kWcuoBa7RmLS",
        "outputId": "63b49fdc-407f-4a53-fdff-87f280123051"
      },
      "execution_count": null,
      "outputs": [
        {
          "output_type": "stream",
          "name": "stdout",
          "text": [
            "100/90\n"
          ]
        }
      ]
    },
    {
      "cell_type": "code",
      "source": [
        "# 10. Demonstrate operator overloading by creating a class Vector and overriding the add method to add two vectors.\n",
        "class Vector:\n",
        "    def __init__(self, x, y):\n",
        "        self.x = x\n",
        "        self.y = y\n",
        "\n",
        "    def __add__(self, other):\n",
        "        return Vector(self.x + other.x, self.y + other.y)\n",
        "\n",
        "    def __str__(self):\n",
        "        return f\"({self.x}, {self.y})\"\n",
        "\n",
        "num1= Vector(5, 10)\n",
        "num2= Vector(20,80)\n",
        "v3 = num1 + num2\n",
        "print(v3)"
      ],
      "metadata": {
        "colab": {
          "base_uri": "https://localhost:8080/"
        },
        "id": "dFRyoCYGV5Zb",
        "outputId": "cd138511-fe2b-4233-b2fd-5adb7a757d1f"
      },
      "execution_count": null,
      "outputs": [
        {
          "output_type": "stream",
          "name": "stdout",
          "text": [
            "(25, 90)\n"
          ]
        }
      ]
    },
    {
      "cell_type": "code",
      "source": [
        "# 11. Create a class Person with attributes name and age. Add a method greet() that prints \"Hello, my name is {name} and I am {age} years old.\"\n",
        "class Person:\n",
        "    def __init__(self, name, age):\n",
        "        self.name = name\n",
        "        self.age = age\n",
        "\n",
        "    def greet(self):\n",
        "        print (f\"Hello, my name is {self.name} and I am {self.age} years old.\")\n",
        "\n",
        "a=Person(\"Swar\", 25)\n",
        "a.greet()"
      ],
      "metadata": {
        "colab": {
          "base_uri": "https://localhost:8080/"
        },
        "id": "L1lL5fPEncAZ",
        "outputId": "e38d91cb-0e8c-4718-9de2-19f89741a15a"
      },
      "execution_count": null,
      "outputs": [
        {
          "output_type": "stream",
          "name": "stdout",
          "text": [
            "Hello, my name is Swar and I am 25 years old.\n"
          ]
        }
      ]
    },
    {
      "cell_type": "code",
      "source": [
        "# 12. Implement a class Student with attributes name and grades. Create a method average_grade() to compute the average of the grades.\n",
        "class Student:\n",
        "    def __init__(self, name, grades):\n",
        "        self.name = name\n",
        "        self.grades= grades\n",
        "\n",
        "    def average_grade(self):\n",
        "        return sum(self.grades)/len(self.grades)\n",
        "\n",
        "s1= Student(\"Swar\", [50,80,90,95])\n",
        "s1.average_grade()"
      ],
      "metadata": {
        "colab": {
          "base_uri": "https://localhost:8080/"
        },
        "id": "4pMeNfLzpyxr",
        "outputId": "0eb2648a-37bb-42d8-9917-37c71432031d"
      },
      "execution_count": null,
      "outputs": [
        {
          "output_type": "execute_result",
          "data": {
            "text/plain": [
              "78.75"
            ]
          },
          "metadata": {},
          "execution_count": 22
        }
      ]
    },
    {
      "cell_type": "code",
      "source": [
        "# 13. Create a class Rectangle with methods set_dimensions() to set the dimensions and area() to calculate the area.\n",
        "class Rectangle:\n",
        "    def set_dimensions(self, length, width):\n",
        "        self.length = length\n",
        "        self.width = width\n",
        "\n",
        "    def area(self):\n",
        "       return self.length * self.width\n",
        "\n",
        "r= Rectangle()\n",
        "r.set_dimensions(10,20)\n",
        "\n",
        "print (f\"Area is: {r.area()}\")"
      ],
      "metadata": {
        "colab": {
          "base_uri": "https://localhost:8080/"
        },
        "id": "ThCPch3_sBTg",
        "outputId": "e61d98bd-d98b-4627-9e8a-35a97cf2e0e2"
      },
      "execution_count": null,
      "outputs": [
        {
          "output_type": "stream",
          "name": "stdout",
          "text": [
            "Area is: 200\n"
          ]
        }
      ]
    },
    {
      "cell_type": "code",
      "source": [
        "# 14. Create a class Employee with a method calculate_salary() that computes the salary based on hours worked and hourly rate. Create a derived class Manager that adds a bonus to the salary.\n",
        "class Employee:\n",
        "    def __init__(self, name, hours_worked, hourly_rate):\n",
        "        self.name = name\n",
        "        self.hours_worked = hours_worked\n",
        "        self.hourly_rate = hourly_rate\n",
        "\n",
        "    def calculate_salary(self):\n",
        "        return self.hours_worked * self.hourly_rate\n",
        "\n",
        "class Manager(Employee):\n",
        "    def __init__(self, name, hours_worked, hourly_rate, bonus):\n",
        "        super().__init__(name, hours_worked, hourly_rate)\n",
        "        self.bonus = bonus\n",
        "\n",
        "    def calculate_salary(self):\n",
        "        salary = super().calculate_salary()\n",
        "        return salary + self.bonus\n",
        "\n",
        "m = Manager(\"Swar\", 40, 100, 1000)\n",
        "print(f\"{m.name}'s Salary: ₹{m.calculate_salary()}\")"
      ],
      "metadata": {
        "colab": {
          "base_uri": "https://localhost:8080/"
        },
        "id": "YvMhdQxGu5z8",
        "outputId": "76dea0e3-6576-42c5-bb27-b06e8adf310f"
      },
      "execution_count": null,
      "outputs": [
        {
          "output_type": "stream",
          "name": "stdout",
          "text": [
            "Swar's Salary: ₹5000\n"
          ]
        }
      ]
    },
    {
      "cell_type": "code",
      "source": [
        "# 15. Create a class Product with attributes name, price, and quantity. Implement a method total_price() that calculates the total price of the product.\n",
        "class Product:\n",
        "    def __init__(self, name, price, quantity):\n",
        "        self.name = name\n",
        "        self.price = price\n",
        "        self.quantity = quantity\n",
        "\n",
        "    def total_price(self):\n",
        "        return self.price * self.quantity\n",
        "\n",
        "p= Product(\"Book\", 200, 2)\n",
        "print(f\"Total price of {p.name} is: {p.total_price()}\")"
      ],
      "metadata": {
        "colab": {
          "base_uri": "https://localhost:8080/"
        },
        "id": "-KrQcfg55oOD",
        "outputId": "f3b0b18a-5d07-46f9-ee71-54b76c5847c7"
      },
      "execution_count": null,
      "outputs": [
        {
          "output_type": "stream",
          "name": "stdout",
          "text": [
            "Total price of Book is: 400\n"
          ]
        }
      ]
    },
    {
      "cell_type": "code",
      "source": [
        "# 16. Create a class Animal with an abstract method sound(). Create two derived classes Cow and Sheep that implement the sound() method.\n",
        "from abc import ABC, abstractmethod\n",
        "class Animal(ABC):\n",
        "      @abstractmethod\n",
        "      def sound(self):\n",
        "          pass\n",
        "\n",
        "class Cow(Animal):\n",
        "    def sound(self):\n",
        "        return \"Moo\"\n",
        "\n",
        "class Sheep(Animal):\n",
        "    def sound(self):\n",
        "        return \"Baa\"\n",
        "\n",
        "c=Cow()\n",
        "s=Sheep()\n",
        "\n",
        "print(c.sound())\n",
        "print(s.sound())"
      ],
      "metadata": {
        "colab": {
          "base_uri": "https://localhost:8080/"
        },
        "id": "CyY897ylAZJl",
        "outputId": "7391f109-d614-4d8f-b82f-57bb7d4c904d"
      },
      "execution_count": null,
      "outputs": [
        {
          "output_type": "stream",
          "name": "stdout",
          "text": [
            "Moo\n",
            "Baa\n"
          ]
        }
      ]
    },
    {
      "cell_type": "code",
      "source": [
        "# 17. Create a class Book with attributes title, author, and year_published. Add a method get_book_info() that returns a formatted string with the book's details.\n",
        "class Book:\n",
        "    def __init__(self, title, author, year_published):\n",
        "        self.title = title\n",
        "        self.author = author\n",
        "        self.year_published = year_published\n",
        "\n",
        "    def get_book_info(self):\n",
        "        return f\"Book title is '{self.title}'. It is written by {self.author} and it was published in the year {self.year_published}.\"\n",
        "\n",
        "b=Book(\"The Alchemist\", \"Paulo Coelho\", 1988)\n",
        "b.get_book_info()"
      ],
      "metadata": {
        "colab": {
          "base_uri": "https://localhost:8080/",
          "height": 36
        },
        "id": "3HVpo8K2CHMK",
        "outputId": "f98915d1-6e92-4490-8c12-1df77059203e"
      },
      "execution_count": null,
      "outputs": [
        {
          "output_type": "execute_result",
          "data": {
            "text/plain": [
              "\"Book title is 'The Alchemist'. It is written by Paulo Coelho and it was published in the year 1988.\""
            ],
            "application/vnd.google.colaboratory.intrinsic+json": {
              "type": "string"
            }
          },
          "metadata": {},
          "execution_count": 43
        }
      ]
    },
    {
      "cell_type": "code",
      "source": [
        "# 18. Create a class House with attributes address and price. Create a derived class Mansion that adds an attribute number_of_rooms.\n",
        "class House:\n",
        "    def __init__(self, address, price):\n",
        "        self.address = address\n",
        "        self.price = price\n",
        "\n",
        "class Mansion(House):\n",
        "    def __init__(self, address, price, number_of_rooms):\n",
        "        super().__init__(address, price)\n",
        "        self.number_of_rooms = number_of_rooms\n",
        "\n",
        "m1= Mansion(\"Saur Bazar\", 2000, 5)\n",
        "print(m1.address)\n",
        "print(m1.price)\n",
        "print(m1.number_of_rooms)"
      ],
      "metadata": {
        "colab": {
          "base_uri": "https://localhost:8080/"
        },
        "id": "REd3lmNPDz4X",
        "outputId": "845f5c79-c75c-48dd-9994-1cb5143f2347"
      },
      "execution_count": null,
      "outputs": [
        {
          "output_type": "stream",
          "name": "stdout",
          "text": [
            "Saur Bazar\n",
            "2000\n",
            "5\n"
          ]
        }
      ]
    }
  ]
}